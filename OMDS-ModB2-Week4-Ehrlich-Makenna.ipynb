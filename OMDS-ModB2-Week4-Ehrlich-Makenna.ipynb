{
 "cells": [
  {
   "cell_type": "markdown",
   "id": "4441d563-75a4-4c32-b1e7-2c229477ca1c",
   "metadata": {},
   "source": [
    "# Week 4 - Univariate Analysis, part 2"
   ]
  },
  {
   "cell_type": "markdown",
   "id": "98e23199-b611-403a-b843-2369d14d29bd",
   "metadata": {
    "jp-MarkdownHeadingCollapsed": true
   },
   "source": [
    "# 1. Lesson - None"
   ]
  },
  {
   "cell_type": "markdown",
   "id": "35a7a0ae-f55f-455f-a951-478605b5e192",
   "metadata": {},
   "source": [
    "# 2. Weekly graph question"
   ]
  },
  {
   "cell_type": "markdown",
   "id": "6807d39d-413e-4ce2-9281-3dd73eda198f",
   "metadata": {},
   "source": [
    "Below are a histogram and boxplot representation of the same data. A pharmacy is keeping a record of the prices of the drugs that it sells, and an administrator wants to know how much the more expensive drugs tend to cost, in the context of the other prices.\n",
    "\n",
    "Please write a short explanation of the pros and cons of these two representations. Which would you choose? How would you modify the formatting, if at all, to make it more visually interesting, clear, or informative?"
   ]
  },
  {
   "cell_type": "code",
   "execution_count": 1,
   "id": "1888593e-817d-4148-954d-5d156593bd8d",
   "metadata": {},
   "outputs": [],
   "source": [
    "import numpy as np\n",
    "import pandas as pd\n",
    "\n",
    "np.random.seed(0)\n",
    "num_data = 100\n",
    "data = np.exp(np.random.uniform(size = num_data) * 4)\n",
    "df = pd.DataFrame(data.T, columns = [\"data\"])"
   ]
  },
  {
   "cell_type": "code",
   "execution_count": 2,
   "id": "13745ab1-8a9b-4568-bf56-3245fa36a358",
   "metadata": {},
   "outputs": [
    {
     "name": "stdout",
     "output_type": "stream",
     "text": [
      "The 75th percentile is: data    15.457656\n",
      "Name: 0.75, dtype: float64\n"
     ]
    },
    {
     "data": {
      "text/plain": [
       "<Axes: ylabel='Frequency'>"
      ]
     },
     "execution_count": 2,
     "metadata": {},
     "output_type": "execute_result"
    },
    {
     "data": {
      "image/png": "[encoded data removed]",
      "text/plain": [
       "<Figure size 640x480 with 1 Axes>"
      ]
     },
     "metadata": {},
     "output_type": "display_data"
    }
   ],
   "source": [
    "print(\"The 75th percentile is:\", df.quantile(q = 0.75))\n",
    "df.plot.hist()"
   ]
  },
  {
   "cell_type": "code",
   "execution_count": 3,
   "id": "d4dbce72-bd33-43a2-b3e7-354a1cca6e39",
   "metadata": {},
   "outputs": [
    {
     "data": {
      "text/plain": [
       "<Axes: >"
      ]
     },
     "execution_count": 3,
     "metadata": {},
     "output_type": "execute_result"
    },
    {
     "data": {
      "image/png": "[encoded data removed]",
      "text/plain": [
       "<Figure size 640x480 with 1 Axes>"
      ]
     },
     "metadata": {},
     "output_type": "display_data"
    }
   ],
   "source": [
    "df.plot.box()"
   ]
  },
  {
   "cell_type": "markdown",
   "id": "ea5797f1",
   "metadata": {},
   "source": [
    "The advantages of the representation of the first chart is that you can clearly identify a numerical frequency of the cost of the drugs, for example, that 40+ drugs cost between $1-5. Additionally, it gives a good distribution of the frequency of the drug cost, skewed right. A disadvantage of this chart is that the bins are not completely clear.\n",
    "<br>\n",
    "<br>\n",
    "The advantage of the representation of the second chart is that you can identify in percentages/quartiles the frequency of different drug cost bins. Additionally, it is easier to identify outliers and the median. A disadvantage of the representation in the second chart is that it is not immediately apparent to the untrained eye what the box represents.\n",
    "<br>\n",
    "<br>\n",
    "Second, I would modify these graphs by clearing labeling each axis and providing a chart title. Based on the administrator's use case, I may also add a threshold or color code based on that."
   ]
  },
  {
   "cell_type": "markdown",
   "id": "ab830464-2f92-4281-a2d3-474ffd26d1c7",
   "metadata": {},
   "source": [
    "# 3. Homework - working on your datasets"
   ]
  },
  {
   "cell_type": "markdown",
   "id": "e892ba10-7f81-4330-9863-73f65fbdc4bd",
   "metadata": {},
   "source": [
    "This week, you will do the same types of exercises as last week, but you should use your chosen datasets that someone in your class found last semester. (They likely will not be the particular datasets that you found yourself.)\n",
    "\n",
    "### Here are some types of analysis you can do:\n",
    "\n",
    "- Draw histograms and histogram variants for each feature or column.  (Swarm plot, kde plot, violin plot).\n",
    "\n",
    "- Draw grouped histograms.  For instance, if you have tree heights for both maple and oak trees, you could draw histograms for both.\n",
    "\n",
    "- Draw a bar plot to indicate total counts of each categorical variable in a given column.\n",
    "\n",
    "- Find means, medians, and modes.\n",
    "\n",
    "### Conclusions:\n",
    "\n",
    "- Explain what conclusions you would draw from this analysis: are the data what you expect?  Are the data likely to be usable?  If they are not useable, find some new data!\n",
    "\n",
    "- What is the overall shape of the distribution?  Is it normal, skewed, bimodal, uniform, etc.?\n",
    "\n",
    "- Are there any outliers present?  (Data points that are far from the others.)\n",
    "\n",
    "- If there are multiple related histograms, how does the distribution change across different groups?\n",
    "\n",
    "- What are the minimum and maximum values represented in each histogram?\n",
    "\n",
    "- How do bin sizes affect the histogram?  Does changing the bin width reveal different patterns in the data?\n",
    "\n",
    "- Does the distribution appear normal, or does it have a different distribution?"
   ]
  },
  {
   "cell_type": "code",
   "execution_count": 4,
   "id": "09433275",
   "metadata": {},
   "outputs": [],
   "source": [
    "import matplotlib.pyplot as plt"
   ]
  },
  {
   "cell_type": "code",
   "execution_count": 5,
   "id": "021875b5",
   "metadata": {},
   "outputs": [],
   "source": [
    "df_loan = pd.read_csv(\"Loan_Default_Data_Train.csv\")"
   ]
  },
  {
   "cell_type": "code",
   "execution_count": 46,
   "id": "f4055370",
   "metadata": {},
   "outputs": [
    {
     "data": {
      "text/html": [
       "<div>\n",
       "<style scoped>\n",
       "    .dataframe tbody tr th:only-of-type {\n",
       "        vertical-align: middle;\n",
       "    }\n",
       "\n",
       "    .dataframe tbody tr th {\n",
       "        vertical-align: top;\n",
       "    }\n",
       "\n",
       "    .dataframe thead th {\n",
       "        text-align: right;\n",
       "    }\n",
       "</style>\n",
       "<table border=\"1\" class=\"dataframe\">\n",
       "  <thead>\n",
       "    <tr style=\"text-align: right;\">\n",
       "      <th></th>\n",
       "      <th>ID</th>\n",
       "      <th>Asst_Reg</th>\n",
       "      <th>GGGrade</th>\n",
       "      <th>Experience</th>\n",
       "      <th>Validation</th>\n",
       "      <th>Yearly_Income</th>\n",
       "      <th>Home_Status</th>\n",
       "      <th>Unpaid_2_years</th>\n",
       "      <th>Already_Defaulted</th>\n",
       "      <th>Designation</th>\n",
       "      <th>...</th>\n",
       "      <th>Account_Open</th>\n",
       "      <th>Total_Unpaid_CL</th>\n",
       "      <th>Duration</th>\n",
       "      <th>Unpaid_Amount</th>\n",
       "      <th>Reason</th>\n",
       "      <th>Claim_Type</th>\n",
       "      <th>Due_Fee</th>\n",
       "      <th>Default</th>\n",
       "      <th>Income_Bin</th>\n",
       "      <th>DTI_bin</th>\n",
       "    </tr>\n",
       "  </thead>\n",
       "  <tbody>\n",
       "    <tr>\n",
       "      <th>0</th>\n",
       "      <td>95074</td>\n",
       "      <td>421802</td>\n",
       "      <td>II</td>\n",
       "      <td>&gt;10yrs</td>\n",
       "      <td>Vfied</td>\n",
       "      <td>633,600.00</td>\n",
       "      <td>MORTGAGE</td>\n",
       "      <td>0</td>\n",
       "      <td>0</td>\n",
       "      <td>GLENDALE NISSAN</td>\n",
       "      <td>...</td>\n",
       "      <td>17</td>\n",
       "      <td>58,598.00</td>\n",
       "      <td>3 years</td>\n",
       "      <td>31,216.05</td>\n",
       "      <td>debt  consolidation</td>\n",
       "      <td>I</td>\n",
       "      <td>0.00</td>\n",
       "      <td>0</td>\n",
       "      <td>150k+</td>\n",
       "      <td>NaN</td>\n",
       "    </tr>\n",
       "    <tr>\n",
       "      <th>1</th>\n",
       "      <td>134131</td>\n",
       "      <td>3964312</td>\n",
       "      <td>IV</td>\n",
       "      <td>7yrs</td>\n",
       "      <td>Source Verified</td>\n",
       "      <td>85,483.20</td>\n",
       "      <td>RENT</td>\n",
       "      <td>0</td>\n",
       "      <td>0</td>\n",
       "      <td>Business Teacher</td>\n",
       "      <td>...</td>\n",
       "      <td>15</td>\n",
       "      <td>18,924.00</td>\n",
       "      <td>5 years</td>\n",
       "      <td>11,660.49</td>\n",
       "      <td>debt  consolidation</td>\n",
       "      <td>I</td>\n",
       "      <td>0.00</td>\n",
       "      <td>0</td>\n",
       "      <td>75–100k</td>\n",
       "      <td>NaN</td>\n",
       "    </tr>\n",
       "    <tr>\n",
       "      <th>2</th>\n",
       "      <td>92602</td>\n",
       "      <td>4247560</td>\n",
       "      <td>III</td>\n",
       "      <td>&lt;1yr</td>\n",
       "      <td>Source Verified</td>\n",
       "      <td>79,200.00</td>\n",
       "      <td>RENT</td>\n",
       "      <td>0</td>\n",
       "      <td>0</td>\n",
       "      <td>driver</td>\n",
       "      <td>...</td>\n",
       "      <td>7</td>\n",
       "      <td>15,604.00</td>\n",
       "      <td>5 years</td>\n",
       "      <td>5,637.87</td>\n",
       "      <td>major  purchase</td>\n",
       "      <td>I</td>\n",
       "      <td>0.00</td>\n",
       "      <td>0</td>\n",
       "      <td>75–100k</td>\n",
       "      <td>NaN</td>\n",
       "    </tr>\n",
       "    <tr>\n",
       "      <th>3</th>\n",
       "      <td>22591</td>\n",
       "      <td>197179</td>\n",
       "      <td>III</td>\n",
       "      <td>&lt;1yr</td>\n",
       "      <td>Vfied</td>\n",
       "      <td>61,600.00</td>\n",
       "      <td>RENT</td>\n",
       "      <td>0</td>\n",
       "      <td>0</td>\n",
       "      <td>AvePoint</td>\n",
       "      <td>...</td>\n",
       "      <td>9</td>\n",
       "      <td>22,410.00</td>\n",
       "      <td>3 years</td>\n",
       "      <td>15,607.17</td>\n",
       "      <td>major  purchase</td>\n",
       "      <td>I</td>\n",
       "      <td>0.00</td>\n",
       "      <td>1</td>\n",
       "      <td>50–75k</td>\n",
       "      <td>NaN</td>\n",
       "    </tr>\n",
       "    <tr>\n",
       "      <th>4</th>\n",
       "      <td>125060</td>\n",
       "      <td>4646684</td>\n",
       "      <td>V</td>\n",
       "      <td>2yrs</td>\n",
       "      <td>Source Verified</td>\n",
       "      <td>68,053.92</td>\n",
       "      <td>RENT</td>\n",
       "      <td>0</td>\n",
       "      <td>0</td>\n",
       "      <td>Lead Tester</td>\n",
       "      <td>...</td>\n",
       "      <td>10</td>\n",
       "      <td>36,022.00</td>\n",
       "      <td>5 years</td>\n",
       "      <td>27,472.86</td>\n",
       "      <td>debt  consolidation</td>\n",
       "      <td>I</td>\n",
       "      <td>0.00</td>\n",
       "      <td>0</td>\n",
       "      <td>50–75k</td>\n",
       "      <td>NaN</td>\n",
       "    </tr>\n",
       "  </tbody>\n",
       "</table>\n",
       "<p>5 rows × 32 columns</p>\n",
       "</div>"
      ],
      "text/plain": [
       "       ID  Asst_Reg GGGrade Experience       Validation  Yearly_Income  \\\n",
       "0   95074    421802      II     >10yrs            Vfied     633,600.00   \n",
       "1  134131   3964312      IV       7yrs  Source Verified      85,483.20   \n",
       "2   92602   4247560     III       <1yr  Source Verified      79,200.00   \n",
       "3   22591    197179     III       <1yr            Vfied      61,600.00   \n",
       "4  125060   4646684       V       2yrs  Source Verified      68,053.92   \n",
       "\n",
       "  Home_Status  Unpaid_2_years  Already_Defaulted       Designation  ...  \\\n",
       "0    MORTGAGE               0                  0   GLENDALE NISSAN  ...   \n",
       "1        RENT               0                  0  Business Teacher  ...   \n",
       "2        RENT               0                  0            driver  ...   \n",
       "3        RENT               0                  0          AvePoint  ...   \n",
       "4        RENT               0                  0       Lead Tester  ...   \n",
       "\n",
       "   Account_Open  Total_Unpaid_CL  Duration  Unpaid_Amount  \\\n",
       "0            17        58,598.00   3 years      31,216.05   \n",
       "1            15        18,924.00   5 years      11,660.49   \n",
       "2             7        15,604.00   5 years       5,637.87   \n",
       "3             9        22,410.00   3 years      15,607.17   \n",
       "4            10        36,022.00   5 years      27,472.86   \n",
       "\n",
       "                Reason  Claim_Type  Due_Fee  Default  Income_Bin  DTI_bin  \n",
       "0  debt  consolidation           I     0.00        0       150k+      NaN  \n",
       "1  debt  consolidation           I     0.00        0     75–100k      NaN  \n",
       "2      major  purchase           I     0.00        0     75–100k      NaN  \n",
       "3      major  purchase           I     0.00        1      50–75k      NaN  \n",
       "4  debt  consolidation           I     0.00        0      50–75k      NaN  \n",
       "\n",
       "[5 rows x 32 columns]"
      ]
     },
     "execution_count": 46,
     "metadata": {},
     "output_type": "execute_result"
    }
   ],
   "source": [
    "df_loan.head()"
   ]
  },
  {
   "cell_type": "code",
   "execution_count": 29,
   "id": "a2561588",
   "metadata": {},
   "outputs": [
    {
     "data": {
      "text/html": [
       "<div>\n",
       "<style scoped>\n",
       "    .dataframe tbody tr th:only-of-type {\n",
       "        vertical-align: middle;\n",
       "    }\n",
       "\n",
       "    .dataframe tbody tr th {\n",
       "        vertical-align: top;\n",
       "    }\n",
       "\n",
       "    .dataframe thead th {\n",
       "        text-align: right;\n",
       "    }\n",
       "</style>\n",
       "<table border=\"1\" class=\"dataframe\">\n",
       "  <thead>\n",
       "    <tr style=\"text-align: right;\">\n",
       "      <th></th>\n",
       "      <th>Yearly_Income</th>\n",
       "      <th>Unpaid_2_years</th>\n",
       "      <th>Debt_to_Income</th>\n",
       "      <th>Lend_Amount</th>\n",
       "      <th>Interest_Charged</th>\n",
       "      <th>Usage_Rate</th>\n",
       "      <th>Inquiries</th>\n",
       "      <th>Present_Balance</th>\n",
       "      <th>Gross_Collection</th>\n",
       "      <th>Account_Open</th>\n",
       "      <th>Total_Unpaid_CL</th>\n",
       "      <th>Unpaid_Amount</th>\n",
       "    </tr>\n",
       "  </thead>\n",
       "  <tbody>\n",
       "    <tr>\n",
       "      <th>0</th>\n",
       "      <td>633,600.00</td>\n",
       "      <td>0</td>\n",
       "      <td>12.55</td>\n",
       "      <td>42,023.25</td>\n",
       "      <td>15.39</td>\n",
       "      <td>88.92</td>\n",
       "      <td>3</td>\n",
       "      <td>607,161.90</td>\n",
       "      <td>0.00</td>\n",
       "      <td>17</td>\n",
       "      <td>58,598.00</td>\n",
       "      <td>31,216.05</td>\n",
       "    </tr>\n",
       "    <tr>\n",
       "      <th>1</th>\n",
       "      <td>85,483.20</td>\n",
       "      <td>0</td>\n",
       "      <td>9.00</td>\n",
       "      <td>38,133.00</td>\n",
       "      <td>9.94</td>\n",
       "      <td>102.86</td>\n",
       "      <td>0</td>\n",
       "      <td>269,234.06</td>\n",
       "      <td>0.00</td>\n",
       "      <td>15</td>\n",
       "      <td>18,924.00</td>\n",
       "      <td>11,660.49</td>\n",
       "    </tr>\n",
       "    <tr>\n",
       "      <th>2</th>\n",
       "      <td>79,200.00</td>\n",
       "      <td>0</td>\n",
       "      <td>24.91</td>\n",
       "      <td>17,100.00</td>\n",
       "      <td>22.35</td>\n",
       "      <td>60.37</td>\n",
       "      <td>0</td>\n",
       "      <td>22,476.53</td>\n",
       "      <td>0.00</td>\n",
       "      <td>7</td>\n",
       "      <td>15,604.00</td>\n",
       "      <td>5,637.87</td>\n",
       "    </tr>\n",
       "    <tr>\n",
       "      <th>3</th>\n",
       "      <td>61,600.00</td>\n",
       "      <td>0</td>\n",
       "      <td>16.58</td>\n",
       "      <td>5,130.00</td>\n",
       "      <td>10.36</td>\n",
       "      <td>116.27</td>\n",
       "      <td>1</td>\n",
       "      <td>15,242.09</td>\n",
       "      <td>0.00</td>\n",
       "      <td>9</td>\n",
       "      <td>22,410.00</td>\n",
       "      <td>15,607.17</td>\n",
       "    </tr>\n",
       "    <tr>\n",
       "      <th>4</th>\n",
       "      <td>68,053.92</td>\n",
       "      <td>0</td>\n",
       "      <td>40.05</td>\n",
       "      <td>19,665.00</td>\n",
       "      <td>13.68</td>\n",
       "      <td>127.28</td>\n",
       "      <td>1</td>\n",
       "      <td>65,433.94</td>\n",
       "      <td>0.00</td>\n",
       "      <td>10</td>\n",
       "      <td>36,022.00</td>\n",
       "      <td>27,472.86</td>\n",
       "    </tr>\n",
       "  </tbody>\n",
       "</table>\n",
       "</div>"
      ],
      "text/plain": [
       "   Yearly_Income  Unpaid_2_years  Debt_to_Income  Lend_Amount  \\\n",
       "0     633,600.00               0           12.55    42,023.25   \n",
       "1      85,483.20               0            9.00    38,133.00   \n",
       "2      79,200.00               0           24.91    17,100.00   \n",
       "3      61,600.00               0           16.58     5,130.00   \n",
       "4      68,053.92               0           40.05    19,665.00   \n",
       "\n",
       "   Interest_Charged  Usage_Rate  Inquiries  Present_Balance  Gross_Collection  \\\n",
       "0             15.39       88.92          3       607,161.90              0.00   \n",
       "1              9.94      102.86          0       269,234.06              0.00   \n",
       "2             22.35       60.37          0        22,476.53              0.00   \n",
       "3             10.36      116.27          1        15,242.09              0.00   \n",
       "4             13.68      127.28          1        65,433.94              0.00   \n",
       "\n",
       "   Account_Open  Total_Unpaid_CL  Unpaid_Amount  \n",
       "0            17        58,598.00      31,216.05  \n",
       "1            15        18,924.00      11,660.49  \n",
       "2             7        15,604.00       5,637.87  \n",
       "3             9        22,410.00      15,607.17  \n",
       "4            10        36,022.00      27,472.86  "
      ]
     },
     "execution_count": 29,
     "metadata": {},
     "output_type": "execute_result"
    }
   ],
   "source": [
    "df_loan_relevant = df_loan[[\"Yearly_Income\", \"Unpaid_2_years\", \"Debt_to_Income\", \"Lend_Amount\", \"Interest_Charged\", \"Usage_Rate\", \"Inquiries\", \"Present_Balance\", \"Gross_Collection\", \"Account_Open\", \"Total_Unpaid_CL\", \"Unpaid_Amount\"]]\n",
    "df_loan_relevant.head()"
   ]
  },
  {
   "cell_type": "code",
   "execution_count": 30,
   "id": "a7d2644f",
   "metadata": {},
   "outputs": [
    {
     "data": {
      "text/plain": [
       "Yearly_Income      134,859.63\n",
       "Unpaid_2_years           0.33\n",
       "Debt_to_Income          30.94\n",
       "Lend_Amount         25,920.54\n",
       "Interest_Charged        16.52\n",
       "Usage_Rate              95.52\n",
       "Inquiries                0.67\n",
       "Present_Balance    236,389.46\n",
       "Gross_Collection        39.46\n",
       "Account_Open            12.78\n",
       "Total_Unpaid_CL     53,268.64\n",
       "Unpaid_Amount       29,556.49\n",
       "dtype: float64"
      ]
     },
     "execution_count": 30,
     "metadata": {},
     "output_type": "execute_result"
    }
   ],
   "source": [
    "df_loan_relevant.mean()"
   ]
  },
  {
   "cell_type": "code",
   "execution_count": 31,
   "id": "f38ce771",
   "metadata": {},
   "outputs": [
    {
     "data": {
      "text/plain": [
       "Yearly_Income      114,400.00\n",
       "Unpaid_2_years           0.00\n",
       "Debt_to_Income          30.14\n",
       "Lend_Amount         23,940.00\n",
       "Interest_Charged        16.49\n",
       "Usage_Rate              97.01\n",
       "Inquiries                0.00\n",
       "Present_Balance    138,806.23\n",
       "Gross_Collection         0.00\n",
       "Account_Open            12.00\n",
       "Total_Unpaid_CL     39,674.00\n",
       "Unpaid_Amount       20,892.78\n",
       "dtype: float64"
      ]
     },
     "execution_count": 31,
     "metadata": {},
     "output_type": "execute_result"
    }
   ],
   "source": [
    "df_loan_relevant.median()"
   ]
  },
  {
   "cell_type": "code",
   "execution_count": 32,
   "id": "81070380",
   "metadata": {},
   "outputs": [
    {
     "data": {
      "text/html": [
       "<div>\n",
       "<style scoped>\n",
       "    .dataframe tbody tr th:only-of-type {\n",
       "        vertical-align: middle;\n",
       "    }\n",
       "\n",
       "    .dataframe tbody tr th {\n",
       "        vertical-align: top;\n",
       "    }\n",
       "\n",
       "    .dataframe thead th {\n",
       "        text-align: right;\n",
       "    }\n",
       "</style>\n",
       "<table border=\"1\" class=\"dataframe\">\n",
       "  <thead>\n",
       "    <tr style=\"text-align: right;\">\n",
       "      <th></th>\n",
       "      <th>Yearly_Income</th>\n",
       "      <th>Unpaid_2_years</th>\n",
       "      <th>Debt_to_Income</th>\n",
       "      <th>Lend_Amount</th>\n",
       "      <th>Interest_Charged</th>\n",
       "      <th>Usage_Rate</th>\n",
       "      <th>Inquiries</th>\n",
       "      <th>Present_Balance</th>\n",
       "      <th>Gross_Collection</th>\n",
       "      <th>Account_Open</th>\n",
       "      <th>Total_Unpaid_CL</th>\n",
       "      <th>Unpaid_Amount</th>\n",
       "    </tr>\n",
       "  </thead>\n",
       "  <tbody>\n",
       "    <tr>\n",
       "      <th>0</th>\n",
       "      <td>105,600.00</td>\n",
       "      <td>0.00</td>\n",
       "      <td>22.98</td>\n",
       "      <td>17,100.00</td>\n",
       "      <td>14.56</td>\n",
       "      <td>0.00</td>\n",
       "      <td>0.00</td>\n",
       "      <td>0.00</td>\n",
       "      <td>0.00</td>\n",
       "      <td>11.00</td>\n",
       "      <td>24,070.00</td>\n",
       "      <td>0.00</td>\n",
       "    </tr>\n",
       "    <tr>\n",
       "      <th>1</th>\n",
       "      <td>NaN</td>\n",
       "      <td>NaN</td>\n",
       "      <td>28.22</td>\n",
       "      <td>NaN</td>\n",
       "      <td>NaN</td>\n",
       "      <td>NaN</td>\n",
       "      <td>NaN</td>\n",
       "      <td>NaN</td>\n",
       "      <td>NaN</td>\n",
       "      <td>NaN</td>\n",
       "      <td>NaN</td>\n",
       "      <td>NaN</td>\n",
       "    </tr>\n",
       "  </tbody>\n",
       "</table>\n",
       "</div>"
      ],
      "text/plain": [
       "   Yearly_Income  Unpaid_2_years  Debt_to_Income  Lend_Amount  \\\n",
       "0     105,600.00            0.00           22.98    17,100.00   \n",
       "1            NaN             NaN           28.22          NaN   \n",
       "\n",
       "   Interest_Charged  Usage_Rate  Inquiries  Present_Balance  Gross_Collection  \\\n",
       "0             14.56        0.00       0.00             0.00              0.00   \n",
       "1               NaN         NaN        NaN              NaN               NaN   \n",
       "\n",
       "   Account_Open  Total_Unpaid_CL  Unpaid_Amount  \n",
       "0         11.00        24,070.00           0.00  \n",
       "1           NaN              NaN            NaN  "
      ]
     },
     "execution_count": 32,
     "metadata": {},
     "output_type": "execute_result"
    }
   ],
   "source": [
    "df_loan_relevant.mode()"
   ]
  },
  {
   "cell_type": "code",
   "execution_count": 42,
   "id": "bc4adc1f",
   "metadata": {},
   "outputs": [
    {
     "data": {
      "image/png": "[encoded data removed]",
      "text/plain": [
       "<Figure size 640x480 with 1 Axes>"
      ]
     },
     "metadata": {},
     "output_type": "display_data"
    }
   ],
   "source": [
    "df_loan[\"Yearly_Income\"].dropna()\n",
    "df_loan[\"Income_Bin\"] = pd.cut(df_loan[\"Yearly_Income\"], bins=[0, 25000, 50000, 75000, 100000, 150000, float(\"inf\")],\n",
    "                               labels=[\"<25k\", \"25–50k\", \"50–75k\", \"75–100k\", \"100–150k\", \"150k+\"])\n",
    "\n",
    "income_counts = df_loan[\"Income_Bin\"].value_counts().sort_index()\n",
    "\n",
    "plt.bar(income_counts.index.astype(str), income_counts.values)\n",
    "plt.title(\"Frequency by Income Range\")\n",
    "plt.xlabel(\"Income Range\")\n",
    "plt.ylabel(\"Count\")\n",
    "plt.xticks(rotation=45)\n",
    "plt.tight_layout()\n",
    "plt.show()"
   ]
  },
  {
   "cell_type": "markdown",
   "id": "a3f1934f-7ef3-4cbb-84bd-b27d93ba95d2",
   "metadata": {},
   "source": [
    "# 4. Storytelling With Data graph"
   ]
  },
  {
   "cell_type": "markdown",
   "id": "91ba396b-fc00-48ec-acc6-e026348536f6",
   "metadata": {},
   "source": [
    "Reproduce any graph of your choice in p. 52-68 of the Storytelling With Data book as best you can.  (The second half of chapter two).  You do not have to get the exact data values right, just the overall look and feel."
   ]
  },
  {
   "cell_type": "code",
   "execution_count": 48,
   "id": "5a7e4b4b-977a-4b0e-bec2-1f34a514da44",
   "metadata": {},
   "outputs": [
    {
     "data": {
      "image/png": "[encoded data removed]",
      "text/plain": [
       "<Figure size 800x600 with 1 Axes>"
      ]
     },
     "metadata": {},
     "output_type": "display_data"
    }
   ],
   "source": [
    "bins = [0, 0.1, 0.2, 0.3, 0.4, 0.5, 1]\n",
    "labels = ['0-10%', '10-20%', '20-30%', '30-40%', '40-50%', '50%+']\n",
    "df_loan['DTI_bin'] = pd.cut(df_loan['Debt_to_Income'], bins=bins, labels=labels, right=False)\n",
    "\n",
    "grouped = df_loan.groupby(['DTI_bin', 'Default'], observed=True).size().unstack(fill_value=0)\n",
    "\n",
    "fig, ax = plt.subplots(figsize=(8, 6))\n",
    "\n",
    "bottom = None\n",
    "for col in grouped.columns:\n",
    "    ax.barh(grouped.index, grouped[col], left=bottom, label=f'Default: {col}')\n",
    "    if bottom is None:\n",
    "        bottom = grouped[col]\n",
    "    else:\n",
    "        bottom += grouped[col]\n",
    "\n",
    "ax.set_xlabel('Frequency')\n",
    "ax.set_ylabel('Debt to Income Ratio')\n",
    "ax.set_title('Debt to Income Ratio by Default Status')\n",
    "ax.legend(title='Loan Default Dataset')\n",
    "\n",
    "plt.tight_layout()\n",
    "plt.show()"
   ]
  }
 ],
 "metadata": {
  "kernelspec": {
   "display_name": "Python 3",
   "language": "python",
   "name": "python3"
  },
  "language_info": {
   "codemirror_mode": {
    "name": "ipython",
    "version": 3
   },
   "file_extension": ".py",
   "mimetype": "text/x-python",
   "name": "python",
   "nbconvert_exporter": "python",
   "pygments_lexer": "ipython3",
   "version": "3.12.1"
  }
 },
 "nbformat": 4,
 "nbformat_minor": 5
}
